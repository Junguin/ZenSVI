{
    "cells": [
        {
            "attachments": {},
            "cell_type": "markdown",
            "metadata": {},
            "source": [
                "# Example usage (last updated: 2023/6/5 zensvi=v0.4.0)\n",
                "\n",
                "To use `zensvi` in a project:"
            ]
        },
        {
            "cell_type": "code",
            "execution_count": 1,
            "metadata": {},
            "outputs": [
                {
                    "name": "stdout",
                    "output_type": "stream",
                    "text": [
                        "0.4.0\n"
                    ]
                }
            ],
            "source": [
                "#%pip install --upgrade zensvi # if zen-svi is not installed\n",
                "\n",
                "import zensvi\n",
                "\n",
                "print(zensvi.__version__)\n",
                "\n",
                "from zensvi.download import GSVDownloader, MLYDownloader\n",
                "from zensvi.cv import Segmenter\n",
                "from zensvi.transform import ImageTransformer"
            ]
        },
        {
            "attachments": {},
            "cell_type": "markdown",
            "metadata": {},
            "source": [
                "# Download SVI\n",
                "## Google Street View"
            ]
        },
        {
            "cell_type": "code",
            "execution_count": null,
            "metadata": {},
            "outputs": [],
            "source": [
                "gsv_api_key = \"YOUR_OWN_GSV_API_KEY\" # please register your own GSV API key at https://developers.google.com/maps/documentation/streetview/get-api-key\n",
                "network_type = \"all\" # network type for OSMnx\n",
                "custom_filter = None # custom filter for OSMnx\n",
                "gsv_downloader = GSVDownloader(gsv_api_key = gsv_api_key, # GSV API key for metadata augmentation\n",
                "                            distance=1, # interval distance between each sample point\n",
                "                            grid = False, # if True, sample points are generated in a grid pattern\n",
                "                            grid_size = 1) # grid size in meters\n",
                "gsv_downloader.download_svi(\"path/to/output\", # output directory\n",
                "                        path_pid = None, # if you already have a list of panorama IDs, you can specify the path to the file here\n",
                "                        zoom=2, # zoom level of the image (i.e. resolution)\n",
                "                        h_tiles=4, # number of horizontal tiles\n",
                "                        v_tiles=2, # number of vertical tiles\n",
                "                        cropped=False, # if True, only the upper half of the image is saved\n",
                "                        full=True, # if True, the full image is saved. If False, the image tiles are separately saved\n",
                "                        lat=None, lon=None, # latitude and longitude of the location to download\n",
                "                        input_csv_file=\"\", # path to the input CSV file containing the location information\n",
                "                        input_shp_file = \"\", # path to the input shapefile containing the location information\n",
                "                        input_place_name = \"\", # name of the location to download\n",
                "                        id_columns=None, # column name of the ID in the input CSV file or shapefile\n",
                "                        buffer = 0, # buffer size in meters around the input location\n",
                "                        augment_metadata=False, # if True, metadata is augmented using the Google Maps API\n",
                "                        update_pids = False, # if True, the list of panorama IDs will be updated. If False, the list of panorama IDs will be loaded from the path_pid file\n",
                "                        network_type = network_type, # network type for OSMnx\n",
                "                        custom_filter = custom_filter) # custom filter for OSMnx"
            ]
        },
        {
            "attachments": {},
            "cell_type": "markdown",
            "metadata": {},
            "source": [
                "## Mapillary"
            ]
        },
        {
            "cell_type": "code",
            "execution_count": null,
            "metadata": {},
            "outputs": [],
            "source": [
                "mly_api_key = \"YOUR_OWN_MLY_API_KEY\" # please register your own Mapillary API key at https://www.mapillary.com/dashboard/developers\n",
                "# additional keyword arguments for the Mapillary API\n",
                "kwarg = {\"fields\": [\"all\"], # A list of options, either as [‘all’], or a list of fields.\n",
                "        \"zoom\": 14, # The zoom level of the tiles to obtain, defaults to 14\n",
                "        \"radius\": 50, #The radius of the images obtained from a center center\n",
                "        \"image_type\": \"both\", # The tile image_type to be obtained, either as ‘flat’, ‘pano’ (panoramic), or ‘both’.\n",
                "        \"min_captured_at\": \"2016\", # The min date. Format from ‘YYYY’, to ‘YYYY-MM-DDTHH:MM:SS’\n",
                "        \"max_captured_at\": \"2020\", # The max date. Format from ‘YYYY’, to ‘YYYY-MM-DDTHH:MM:SS’\n",
                "        \"org_id\": None, # The organization id, ID of the organization this image (or sets of images) belong to. It can be absent. Thus, default is -1 (None)\n",
                "        }\n",
                "mly_downloader = MLYDownloader(mly_api_key, # Mapillary API key\n",
                "                                log_path = None, # path to the log file\n",
                "                                distance = 1, # interval distance between each sample point\n",
                "                                grid = False, # if True, sample points are generated in a grid pattern\n",
                "                                grid_size = 1) # grid size in meters\n",
                "mly_downloader.download_svi(\"path/to/output\", # output directory\n",
                "                        path_pid = None, # if you already have a list of panorama IDs, you can specify the path to the file here\n",
                "                        lat=None, lon=None, # latitude and longitude of the location to download\n",
                "                        input_csv_file=\"\", # path to the input CSV file containing the location information\n",
                "                        input_shp_file = \"\", # path to the input shapefile containing the location information\n",
                "                        input_place_name = \"\", # name of the location to download\n",
                "                        id_columns=None, # column name of the ID in the input CSV file or shapefile\n",
                "                        buffer = 0, # buffer size in meters around the input location\n",
                "                        update_pids = False, # if True, the list of panorama IDs will be updated. If False, the list of panorama IDs will be loaded from the path_pid file\n",
                "                        resolution = 1024, # resolution of the image\n",
                "                        cropped = False, # if True, only the upper half of the image is saved\n",
                "                        network_type = network_type, # network type for OSMnx\n",
                "                        custom_filter = custom_filter # custom filter for OSMnx\n",
                "                        **kwarg)"
            ]
        },
        {
            "attachments": {},
            "cell_type": "markdown",
            "metadata": {},
            "source": [
                "# Segmentation\n",
                "## Cityscapes"
            ]
        },
        {
            "cell_type": "code",
            "execution_count": null,
            "metadata": {},
            "outputs": [],
            "source": [
                "# initialize the segmenter\n",
                "segmenter  = Segmenter()\n",
                "\n",
                "# set arguments\n",
                "dir_input = \"path/to/input\" \n",
                "dir_image_output = \"path/to/image_output\"\n",
                "dir_pixel_ratio_output = \"path/to/pixel_ratio_output\"\n",
                "save_image_options = [\"segmented_image\", \"blend_image\"] # segmented_image (colored image), blend_image (blended image)\n",
                "pixel_ratio_save_format = [\"csv\", \"json\"]\n",
                "segmenter.segment(dir_input, \n",
                "                dir_image_output = dir_image_output,\n",
                "                dir_pixel_ratio_output = dir_pixel_ratio_output,\n",
                "                save_image_options = save_image_options,\n",
                "                pixel_ratio_save_format = pixel_ratio_save_format)"
            ]
        },
        {
            "attachments": {},
            "cell_type": "markdown",
            "metadata": {},
            "source": [
                "## Mapillary Vistas"
            ]
        },
        {
            "cell_type": "code",
            "execution_count": null,
            "metadata": {},
            "outputs": [],
            "source": [
                "# initialize the segmenter\n",
                "model_name=\"facebook/mask2former-swin-large-mapillary-vistas-semantic\"\n",
                "dataset=\"mapillary\"\n",
                "segmenter  = Segmenter(model_name=model_name, dataset=dataset)\n",
                "\n",
                "# set arguments\n",
                "dir_input = \"path/to/input\"\n",
                "dir_image_output = \"path/to/image_output\"\n",
                "dir_pixel_ratio_output = \"path/to/pixel_ratio_output\"\n",
                "save_image_options = [\"segmented_image\", \"blend_image\"]\n",
                "pixel_ratio_save_format = [\"csv\", \"json\"]\n",
                "segmenter.segment(dir_input, \n",
                "                dir_image_output = dir_image_output,\n",
                "                dir_pixel_ratio_output = dir_pixel_ratio_output,\n",
                "                save_image_options = save_image_options,\n",
                "                pixel_ratio_save_format = pixel_ratio_save_format)"
            ]
        },
        {
            "attachments": {},
            "cell_type": "markdown",
            "metadata": {},
            "source": [
                "# Transformation: perspective and Fisheye"
            ]
        },
        {
            "cell_type": "code",
            "execution_count": null,
            "metadata": {},
            "outputs": [],
            "source": [
                "dir_input=\"path/to/input\"\n",
                "dir_output=\"path/to/output\"\n",
                "image_transformer = ImageTransformer(dir_input=dir_input, dir_output=dir_output)\n",
                "image_transformer.transform_images(style_list=[\"perspective\", \"equidistant_fisheye\", \"orthographic_fisheye\", \"stereographic_fisheye\", \"equisolid_fisheye\"], # list of projection styles\n",
                "                                    FOV = 90, # field of view\n",
                "                                    aspects = (9, 16), # aspect ratio\n",
                "                                    show_size=100) # size of the image to show (i.e. scale factor)"
            ]
        },
        {
            "attachments": {},
            "cell_type": "markdown",
            "metadata": {},
            "source": []
        }
    ],
    "metadata": {
        "kernelspec": {
            "display_name": "streetcope",
            "language": "python",
            "name": "python3"
        },
        "language_info": {
            "codemirror_mode": {
                "name": "ipython",
                "version": 3
            },
            "file_extension": ".py",
            "mimetype": "text/x-python",
            "name": "python",
            "nbconvert_exporter": "python",
            "pygments_lexer": "ipython3",
            "version": "3.9.16"
        }
    },
    "nbformat": 4,
    "nbformat_minor": 4
}
