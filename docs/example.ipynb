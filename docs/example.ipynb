{
    "cells": [
        {
            "attachments": {},
            "cell_type": "markdown",
            "metadata": {},
            "source": [
                "# Get started \n",
                "(last updated: 2024/04/17 zensvi=v0.11.0)\n",
                "\n",
                "To use `zensvi` in a project, run the following command. Please make sure to install a compatiable version of `PyTorch` and `torchvision` separately before running the command.\n",
                "\n",
                "See the [documentation](https://pytorch.org/get-started/locally/) for more information on how to install PyTorch."
            ]
        },
        {
            "cell_type": "code",
            "execution_count": null,
            "metadata": {},
            "outputs": [],
            "source": [
                "%pip install --upgrade zensvi # if zen-svi is not installed\n",
                "\n",
                "import zensvi\n",
                "\n",
                "print(zensvi.__version__)\n",
                "\n",
                "from zensvi.download import MLYDownloader\n",
                "from zensvi.cv import Segmenter, ClassifierPlaces365, get_low_level_features\n",
                "from zensvi.transform import ImageTransformer\n",
                "from zensvi.visualization import plot_image, plot_map"
            ]
        },
        {
            "attachments": {},
            "cell_type": "markdown",
            "metadata": {},
            "source": [
                "# How to download Street View Images\n",
                "## Mapillary"
            ]
        },
        {
            "cell_type": "code",
            "execution_count": null,
            "metadata": {},
            "outputs": [],
            "source": [
                "mly_api_key = \"YOUR_OWN_MLY_API_KEY\"  # please register your own Mapillary API key at https://www.mapillary.com/dashboard/developers\n",
                "# additional keyword arguments for the Mapillary API\n",
                "kwarg = {\n",
                "    \"fields\": [\"all\"],  # A list of options, either as [‘all’], or a list of fields.\n",
                "    \"zoom\": 14,  # The zoom level of the tiles to obtain, defaults to 14\n",
                "    \"radius\": 50,  # The radius of the images obtained from a center center\n",
                "    \"image_type\": \"both\",  # The tile image_type to be obtained, either as ‘flat’, ‘pano’ (panoramic), or ‘both’.\n",
                "    \"min_captured_at\": \"2016\",  # The min date. Format from ‘YYYY’, to ‘YYYY-MM-DDTHH:MM:SS’\n",
                "    \"max_captured_at\": \"2020\",  # The max date. Format from ‘YYYY’, to ‘YYYY-MM-DDTHH:MM:SS’\n",
                "    \"org_id\": None,  # The organization id, ID of the organization this image (or sets of images) belong to. It can be absent. Thus, default is -1 (None)\n",
                "}\n",
                "mly_downloader = MLYDownloader(\n",
                "    mly_api_key,  # Mapillary API key\n",
                "    log_path=None,  # path to the log file\n",
                ")\n",
                "mly_downloader.download_svi(\n",
                "    \"path/to/output\",  # output directory\n",
                "    path_pid=None,  # if you already have a list of panorama IDs, you can specify the path to the file here\n",
                "    lat=None,\n",
                "    lon=None,  # latitude and longitude of the location to download\n",
                "    input_csv_file=\"\",  # path to the input CSV file containing the location information\n",
                "    input_shp_file=\"\",  # path to the input shapefile containing the location information\n",
                "    input_place_name=\"\",  # name of the location to download\n",
                "    id_columns=None,  # column name of the ID in the input CSV file or shapefile\n",
                "    buffer=0,  # buffer size in meters around the input location\n",
                "    update_pids=False,  # if True, the list of panorama IDs will be updated. If False, the list of panorama IDs will be loaded from the path_pid file\n",
                "    resolution=1024,  # resolution of the image\n",
                "    cropped=False,  # if True, only the upper half of the image is saved\n",
                "    network_type=network_type,  # network type for OSMnx\n",
                "    custom_filter=custom_filter,  # custom filter for OSMnx\n",
                "    batch_size=1000,  # batch size for downloading images\n",
                "    start_date=None,  # start date for downloading images (YYYY-MM-DD)\n",
                "    end_date=None,  # end date for downloading images (YYYY-MM-DD)\n",
                "    metadata_only=False,  # if True, only metadata is downloaded\n",
                "    use_cache=True,  # if True, the cache is used\n",
                "    **kwarg\n",
                ")"
            ]
        },
        {
            "attachments": {},
            "cell_type": "markdown",
            "metadata": {},
            "source": [
                "# How to run segmentation\n",
                "## Cityscapes"
            ]
        },
        {
            "cell_type": "code",
            "execution_count": null,
            "metadata": {},
            "outputs": [],
            "source": [
                "# initialize the segmenter\n",
                "segmenter = Segmenter()\n",
                "\n",
                "# set arguments\n",
                "dir_input = \"path/to/input\"\n",
                "dir_image_output = \"path/to/image_output\"\n",
                "dir_summary_output = \"path/to/summary_output\"\n",
                "save_image_options = \"segmented_image blend_image\"  # segmented_image (colored image), blend_image (blended image)\n",
                "pixel_ratio_save_format = \"csv json\"\n",
                "segmenter.segment(\n",
                "    dir_input,\n",
                "    dir_image_output=dir_image_output,\n",
                "    dir_summary_output=dir_summary_output,\n",
                "    save_image_options=save_image_options,\n",
                "    pixel_ratio_save_format=pixel_ratio_save_format,\n",
                ")"
            ]
        },
        {
            "attachments": {},
            "cell_type": "markdown",
            "metadata": {},
            "source": [
                "## Mapillary Vistas"
            ]
        },
        {
            "cell_type": "code",
            "execution_count": null,
            "metadata": {},
            "outputs": [],
            "source": [
                "# initialize the segmenter\n",
                "dataset = \"mapillary\"  # this can be either \"mapillary\" or \"cityscapes\"\n",
                "task = \"panoptic\"  # this can be either \"semantic\" or \"panoptic\"\n",
                "segmenter = Segmenter(dataset=dataset, task=task)\n",
                "\n",
                "# set arguments\n",
                "dir_input = \"path/to/input\"\n",
                "dir_image_output = \"path/to/image_output\"\n",
                "dir_summary_output = \"path/to/summary_output\"\n",
                "save_image_options = \"segmented_image blend_image\"\n",
                "pixel_ratio_save_format = \"csv json\"\n",
                "csv_format = \"long\"  # \"long\" or \"wide\"\n",
                "segmenter.segment(\n",
                "    dir_input,\n",
                "    dir_image_output=dir_image_output,\n",
                "    dir_summary_output=dir_summary_output,\n",
                "    save_image_options=save_image_options,\n",
                "    pixel_ratio_save_format=pixel_ratio_save_format,\n",
                "    csv_format=csv_format,\n",
                ")"
            ]
        },
        {
            "cell_type": "markdown",
            "metadata": {},
            "source": [
                "# How to run classification\n",
                "## Places365"
            ]
        },
        {
            "cell_type": "code",
            "execution_count": null,
            "metadata": {},
            "outputs": [],
            "source": [
                "# initialize the classifier\n",
                "classifier = ClassifierPlaces365(\n",
                "    device=\"cpu\",  # device to use (either \"cpu\" or \"gpu\")\n",
                ")\n",
                "\n",
                "# set arguments\n",
                "classifier = ClassifierPlaces365()\n",
                "dir_input = \"path/to/input\"\n",
                "dir_image_output = \"path/to/image_output\"\n",
                "dir_summary_output = \"path/to/summary_output\"\n",
                "csv_format = \"long\"  # \"long\" or \"wide\"\n",
                "classifier.classify(\n",
                "    dir_input,\n",
                "    dir_image_output=dir_image_output,\n",
                "    dir_summary_output=dir_summary_output,\n",
                "    csv_format=csv_format,\n",
                ")"
            ]
        },
        {
            "cell_type": "markdown",
            "metadata": {},
            "source": [
                "# How to get low-level features"
            ]
        },
        {
            "cell_type": "code",
            "execution_count": null,
            "metadata": {},
            "outputs": [],
            "source": [
                "dir_input = \"path/to/input\"\n",
                "dir_image_output = \"path/to/image_output\"\n",
                "dir_summary_output = \"path/to/summary_output\"\n",
                "csv_format = \"long\"  # \"long\" or \"wide\"\n",
                "get_low_level_features(\n",
                "    dir_input,\n",
                "    dir_image_output=dir_image_output,\n",
                "    dir_summary_output=dir_summary_output,\n",
                "    save_format=\"json csv\",\n",
                "    csv_format=csv_format,\n",
                ")"
            ]
        },
        {
            "attachments": {},
            "cell_type": "markdown",
            "metadata": {},
            "source": [
                "# How to transform images: from panorama to perspective and fisheye"
            ]
        },
        {
            "cell_type": "code",
            "execution_count": null,
            "metadata": {},
            "outputs": [],
            "source": [
                "dir_input = \"path/to/input\"\n",
                "dir_output = \"path/to/output\"\n",
                "image_transformer = ImageTransformer(dir_input=dir_input, dir_output=dir_output)\n",
                "image_transformer.transform_images(\n",
                "    style_list=\"perspective equidistant_fisheye orthographic_fisheye stereographic_fisheye equisolid_fisheye\",  # list of projection styles in the form of a string separated by a space\n",
                "    FOV=90,  # field of view\n",
                "    theta=120,  # angle of view (horizontal)\n",
                "    phi=0,  # angle of view (vertical)\n",
                "    aspects=(9, 16),  # aspect ratio\n",
                "    show_size=100,\n",
                ")  # size of the image to show (i.e. scale factor)"
            ]
        },
        {
            "attachments": {},
            "cell_type": "markdown",
            "metadata": {},
            "source": [
                "# How to visualize the results\n",
                "## Point map"
            ]
        },
        {
            "cell_type": "code",
            "execution_count": null,
            "metadata": {},
            "outputs": [],
            "source": [
                "dir_input = \"path/to/input\"\n",
                "path_output = \"path/to/output.png\"  # output file path\n",
                "path_pid = \"path/to/pid\"  # path to the panorama ID file with latitude and longitude\n",
                "csv_file_pattern = \"pixel_ratios.csv\"  # pattern of the CSV files that contain the pixel ratios (or any other variable to plot)\n",
                "variable = \"vegetation\"  # variable to plot (e.g. vegetation, building, sky, etc.). This should be the column name in the CSV file. If None, count of the number of images is plotted\n",
                "plot_type = \"point\"  # plot type (either \"point\", \"line\", or \"hexagon\")\n",
                "fig, ax = plot_map(\n",
                "    path_pid,\n",
                "    dir_input=dir_input,\n",
                "    csv_file_pattern=csv_file_pattern,\n",
                "    variable_name=variable,\n",
                "    plot_type=plot_type,\n",
                "    path_output=path_output,\n",
                "    resolution=13,\n",
                "    cmap=\"viridis\",\n",
                "    legend=True,\n",
                "    title=\"Point Map\",\n",
                "    legend_title=\"Vegetation\",\n",
                "    dark_mode=False,\n",
                ")"
            ]
        },
        {
            "cell_type": "markdown",
            "metadata": {},
            "source": [
                "## Line map"
            ]
        },
        {
            "cell_type": "code",
            "execution_count": null,
            "metadata": {},
            "outputs": [],
            "source": [
                "dir_input = \"path/to/input\"\n",
                "path_output = \"path/to/output.png\"  # output file path\n",
                "path_pid = \"path/to/pid\"  # path to the panorama ID file with latitude and longitude\n",
                "csv_file_pattern = \"pixel_ratios.csv\"  # pattern of the CSV files that contain the pixel ratios (or any other variable to plot)\n",
                "variable = \"vegetation\"  # variable to plot (e.g. vegetation, building, sky, etc.). This should be the column name in the CSV file. If None, count of the number of images is plotted\n",
                "plot_type = \"line\"  # plot type (either \"point\", \"line\", or \"hexagon\")\n",
                "fig, ax = plot_map(\n",
                "    path_pid,\n",
                "    dir_input=dir_input,\n",
                "    csv_file_pattern=csv_file_pattern,\n",
                "    variable_name=variable,\n",
                "    plot_type=plot_type,\n",
                "    path_output=path_output,\n",
                "    resolution=13,\n",
                "    cmap=\"viridis\",\n",
                "    legend=True,\n",
                "    title=\"Point Map\",\n",
                "    legend_title=\"Vegetation\",\n",
                "    dark_mode=False,\n",
                ")"
            ]
        },
        {
            "cell_type": "markdown",
            "metadata": {},
            "source": [
                "## Hexagon map"
            ]
        },
        {
            "cell_type": "code",
            "execution_count": null,
            "metadata": {},
            "outputs": [],
            "source": [
                "dir_input = \"path/to/input\"\n",
                "path_output = \"path/to/output.png\"  # output file path\n",
                "path_pid = \"path/to/pid\"  # path to the panorama ID file with latitude and longitude\n",
                "csv_file_pattern = \"pixel_ratios.csv\"  # pattern of the CSV files that contain the pixel ratios (or any other variable to plot)\n",
                "variable = \"vegetation\"  # variable to plot (e.g. vegetation, building, sky, etc.). This should be the column name in the CSV file. If None, count of the number of images is plotted\n",
                "plot_type = \"hexagon\"  # plot type (either \"point\", \"line\", or \"hexagon\")\n",
                "fig, ax = plot_map(\n",
                "    path_pid,\n",
                "    dir_input=dir_input,\n",
                "    csv_file_pattern=csv_file_pattern,\n",
                "    variable_name=variable,\n",
                "    plot_type=plot_type,\n",
                "    path_output=path_output,\n",
                "    resolution=13,\n",
                "    cmap=\"viridis\",\n",
                "    legend=True,\n",
                "    title=\"Point Map\",\n",
                "    legend_title=\"Vegetation\",\n",
                "    dark_mode=False,\n",
                ")"
            ]
        },
        {
            "cell_type": "markdown",
            "metadata": {},
            "source": [
                "## Plot images as grid"
            ]
        },
        {
            "cell_type": "code",
            "execution_count": null,
            "metadata": {},
            "outputs": [],
            "source": [
                "dir_image_input = \"path/to/input\"\n",
                "path_output = \"path/to/output.png\"  # output file path\n",
                "image_file_pattern = \"*.png\"  # pattern of the image files to plot\n",
                "dir_csv_input = \"path/to/csv\"  # directory of the CSV files\n",
                "csv_file_pattern = \"pixel_ratios.csv\"  # pattern of the CSV files\n",
                "sort_by = \"random\"  # sort the images by either \"random\" or names of variables in the CSV files (e.g. \"vegetation\")\n",
                "fig, ax = plot_image(\n",
                "    dir_image_input,\n",
                "    4,  # number of rows\n",
                "    5,  # number of columns\n",
                "    dir_csv_input=dir_csv_input,  # directory of the CSV files\n",
                "    csv_file_pattern=csv_file_pattern,  # pattern of the CSV files\n",
                "    sort_by=sort_by,  # sort the images by either \"random\" or names of variables in the CSV files (e.g. \"vegetation\")\n",
                "    title=\"Image Grid\",\n",
                "    path_output=path_output,\n",
                "    dark_mode=False,  # if True, the background is dark\n",
                "    random_seed=123,\n",
                ")"
            ]
        }
    ],
    "metadata": {
        "kernelspec": {
            "display_name": "streetcope",
            "language": "python",
            "name": "python3"
        },
        "language_info": {
            "codemirror_mode": {
                "name": "ipython",
                "version": 3
            },
            "file_extension": ".py",
            "mimetype": "text/x-python",
            "name": "python",
            "nbconvert_exporter": "python",
            "pygments_lexer": "ipython3",
            "version": "3.9.16"
        }
    },
    "nbformat": 4,
    "nbformat_minor": 4
}
